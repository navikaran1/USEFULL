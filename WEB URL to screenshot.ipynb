{
 "cells": [
  {
   "cell_type": "code",
   "execution_count": 2,
   "id": "90d62702",
   "metadata": {},
   "outputs": [
    {
     "name": "stdout",
     "output_type": "stream",
     "text": [
      "https%3A%2F%2Fchartink.com%2Fdashboard%2F120182%2F\n"
     ]
    }
   ],
   "source": [
    "import requests\n",
    "import urllib.parse\n",
    "\n",
    "BASE = 'https://mini.s-shot.ru/1024x0/JPEG/1024/Z100/?' # you can modify size, format, zoom\n",
    "url = 'https://chartink.com/dashboard/120182/'#or whatever link you need\n",
    "url = urllib.parse.quote_plus(url) #service needs link to be joined in encoded format\n",
    "print(url)\n",
    "\n",
    "path = 'target1.jpg'\n",
    "response = requests.get(BASE + url, stream=True)\n",
    "\n",
    "if response.status_code == 200:\n",
    "    with open(path, 'wb') as file:\n",
    "        for chunk in response:\n",
    "            file.write(chunk)"
   ]
  },
  {
   "cell_type": "code",
   "execution_count": null,
   "id": "a34c2577",
   "metadata": {},
   "outputs": [],
   "source": []
  }
 ],
 "metadata": {
  "kernelspec": {
   "display_name": "Python 3 (ipykernel)",
   "language": "python",
   "name": "python3"
  },
  "language_info": {
   "codemirror_mode": {
    "name": "ipython",
    "version": 3
   },
   "file_extension": ".py",
   "mimetype": "text/x-python",
   "name": "python",
   "nbconvert_exporter": "python",
   "pygments_lexer": "ipython3",
   "version": "3.9.7"
  }
 },
 "nbformat": 4,
 "nbformat_minor": 5
}
